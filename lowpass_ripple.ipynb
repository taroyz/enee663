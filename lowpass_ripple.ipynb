{
 "cells": [
  {
   "cell_type": "code",
   "execution_count": 15,
   "metadata": {},
   "outputs": [],
   "source": [
    "import numpy as np\n",
    "import torch\n",
    "import torch.nn as nn\n",
    "import math\n",
    "from torch.nn.parameter import Parameter\n",
    "from torch.utils.data import Dataset, DataLoader\n",
    "import torch.optim as optim\n",
    "import torch.nn.functional as F\n",
    "from torch.optim.lr_scheduler import MultiStepLR\n",
    "pi = math.pi\n"
   ]
  },
  {
   "cell_type": "code",
   "execution_count": 4,
   "metadata": {},
   "outputs": [],
   "source": [
    "def sign(x):\n",
    "    y = torch.zeros(x.size())\n",
    "    y[x > 0] = 1\n",
    "    return y"
   ]
  },
  {
   "cell_type": "code",
   "execution_count": 5,
   "metadata": {},
   "outputs": [],
   "source": [
    "class Mynet(nn.Module):\n",
    "    def __init__(self, n):\n",
    "        super(Mynet, self).__init__()\n",
    "        self.n = n\n",
    "        self.fc1 = nn.Linear(n, 1, bias=False)\n",
    "        self.delta = Parameter(torch.Tensor(1))\n",
    "        \n",
    "    def forward(self, w):\n",
    "        a = tocosines(w, self.n)\n",
    "        r = self.fc1(a)\n",
    "        out = torch.cat((r, torch.ones(r.size(0),1)*self.delta),1)\n",
    "        return out"
   ]
  },
  {
   "cell_type": "code",
   "execution_count": 6,
   "metadata": {},
   "outputs": [],
   "source": [
    "def tocosines(w, n):\n",
    "    '''\n",
    "    w: batch*1\n",
    "    '''\n",
    "    t = torch.arange(0, n, 1.0)\n",
    "    c = torch.ones(1, n)*2\n",
    "    c[0,0] = 1\n",
    "    out = torch.cos(torch.ger(w, t))*c\n",
    "    return out #batch*n"
   ]
  },
  {
   "cell_type": "code",
   "execution_count": 12,
   "metadata": {},
   "outputs": [],
   "source": [
    "def customized_loss(w, out, alpha, ws, wp, tradeoff):\n",
    "    '''\n",
    "    w: batch * n\n",
    "    out: batch * 2\n",
    "    \n",
    "    '''\n",
    "    R = out[:,0].reshape(-1, 1)\n",
    "    delta = out[:,1].reshape(-1, 1)\n",
    "    v = torch.cat((R-alpha**2, 1/(alpha**2)-R, R-delta, -R), 1)\n",
    "    v = F.relu(v)\n",
    "#     print(v)\n",
    "    reg = reg_lambda(w, ws, wp, tradeoff)\n",
    "#     print (reg)\n",
    "    loss = (torch.sum(v*reg) + torch.sum(delta))/w.size(0)\n",
    "    return loss"
   ]
  },
  {
   "cell_type": "code",
   "execution_count": 16,
   "metadata": {},
   "outputs": [],
   "source": [
    "def reg_lambda(w, ws, wp, tradeoff):\n",
    "    reg = torch.zeros(w.size(0), 4)\n",
    "    ind1 = ((w < wp).nonzero())\n",
    "    ind2 = ((w > ws).nonzero())\n",
    "    print (ind1)\n",
    "    reg[ind1, 0] = 1\n",
    "    reg[ind1, 1] = 1\n",
    "    reg[ind2, 2] = 1\n",
    "    reg[:, 3] = 1\n",
    "    return reg*tradeoff #batch*4"
   ]
  },
  {
   "cell_type": "code",
   "execution_count": 17,
   "metadata": {},
   "outputs": [],
   "source": [
    "class MyDataset(Dataset):\n",
    "    def __init__(self, W):\n",
    "        self.W = W\n",
    "\n",
    "    def __len__(self):\n",
    "        return len(self.W)\n",
    "\n",
    "    def __getitem__(self, index):\n",
    "        w = self.W[index]\n",
    "        return w"
   ]
  },
  {
   "cell_type": "code",
   "execution_count": 18,
   "metadata": {},
   "outputs": [],
   "source": [
    "alpha = 1.1\n",
    "wp = 0.12*pi\n",
    "ws = 0.24*pi\n",
    "tradeoff = 20\n",
    "n = 40\n",
    "m = n*15\n",
    "W = np.linspace(0, pi, m).astype('float32')\n",
    "W = torch.from_numpy(W)"
   ]
  },
  {
   "cell_type": "code",
   "execution_count": 19,
   "metadata": {},
   "outputs": [],
   "source": [
    "batch_size = 200\n",
    "train_loader = torch.utils.data.DataLoader(\n",
    "    MyDataset(W),\n",
    "    batch_size=batch_size, shuffle=True)"
   ]
  },
  {
   "cell_type": "code",
   "execution_count": 20,
   "metadata": {},
   "outputs": [
    {
     "name": "stdout",
     "output_type": "stream",
     "text": [
      "tensor([[  5],\n",
      "        [  8],\n",
      "        [ 14],\n",
      "        [ 28],\n",
      "        [ 40],\n",
      "        [ 52],\n",
      "        [ 54],\n",
      "        [ 55],\n",
      "        [ 94],\n",
      "        [117],\n",
      "        [123],\n",
      "        [133],\n",
      "        [136],\n",
      "        [155],\n",
      "        [158],\n",
      "        [164],\n",
      "        [167],\n",
      "        [169],\n",
      "        [174]])\n"
     ]
    },
    {
     "ename": "ZeroDivisionError",
     "evalue": "float division by zero",
     "output_type": "error",
     "traceback": [
      "\u001b[0;31m---------------------------------------------------------------------------\u001b[0m",
      "\u001b[0;31mZeroDivisionError\u001b[0m                         Traceback (most recent call last)",
      "\u001b[0;32m<ipython-input-20-9782f1f8df98>\u001b[0m in \u001b[0;36m<module>\u001b[0;34m()\u001b[0m\n\u001b[1;32m     23\u001b[0m         \u001b[0;31m# print statistics\u001b[0m\u001b[0;34m\u001b[0m\u001b[0;34m\u001b[0m\u001b[0m\n\u001b[1;32m     24\u001b[0m         \u001b[0mrunning_loss\u001b[0m \u001b[0;34m+=\u001b[0m \u001b[0mloss\u001b[0m\u001b[0;34m.\u001b[0m\u001b[0mitem\u001b[0m\u001b[0;34m(\u001b[0m\u001b[0;34m)\u001b[0m\u001b[0;34m\u001b[0m\u001b[0m\n\u001b[0;32m---> 25\u001b[0;31m     \u001b[0mprint\u001b[0m\u001b[0;34m(\u001b[0m\u001b[0;34m'epoch = %d, loss = %.6f'\u001b[0m \u001b[0;34m%\u001b[0m\u001b[0;34m(\u001b[0m\u001b[0mepoch\u001b[0m\u001b[0;34m,\u001b[0m \u001b[0mrunning_loss\u001b[0m\u001b[0;34m/\u001b[0m\u001b[0mi\u001b[0m\u001b[0;34m)\u001b[0m\u001b[0;34m)\u001b[0m\u001b[0;34m\u001b[0m\u001b[0m\n\u001b[0m\u001b[1;32m     26\u001b[0m \u001b[0;34m\u001b[0m\u001b[0m\n\u001b[1;32m     27\u001b[0m     \u001b[0;32mif\u001b[0m \u001b[0mrunning_loss\u001b[0m \u001b[0;34m<\u001b[0m \u001b[0mprevious_loss\u001b[0m\u001b[0;34m:\u001b[0m\u001b[0;34m\u001b[0m\u001b[0m\n",
      "\u001b[0;31mZeroDivisionError\u001b[0m: float division by zero"
     ]
    }
   ],
   "source": [
    "model = Mynet(n)\n",
    "optimizer = optim.SGD(model.parameters(), lr=0.00001, momentum=0.9)\n",
    "scheduler = MultiStepLR(optimizer, milestones=[400, 600], gamma=0.2)\n",
    "epochs = 1000\n",
    "\n",
    "model_best = model\n",
    "previous_loss = 10000\n",
    "for epoch in range(epochs):  # loop over the dataset multiple times\n",
    "    running_loss = 0.0\n",
    "    scheduler.step(epoch)\n",
    "    for i, w in enumerate(train_loader, 0):\n",
    "\n",
    "        # zero the parameter gradients\n",
    "        optimizer.zero_grad()\n",
    "\n",
    "        # forward + backward + optimize\n",
    "        out = model(w)\n",
    "        loss = customized_loss(w, out, alpha, ws, wp, tradeoff)\n",
    "        break\n",
    "        loss.backward()\n",
    "        optimizer.step()\n",
    "\n",
    "        # print statistics\n",
    "        running_loss += loss.item()\n",
    "    print('epoch = %d, loss = %.6f' %(epoch, running_loss/i))\n",
    "    \n",
    "    if running_loss < previous_loss:\n",
    "        model_best = model\n",
    "    \n",
    "    previous_loss = running_loss\n",
    "    \n",
    "print('Finished Training')"
   ]
  },
  {
   "cell_type": "code",
   "execution_count": 1,
   "metadata": {},
   "outputs": [],
   "source": [
    "def get_result():\n",
    "    a =[]\n",
    "    for parameter in model_best.parameters():\n",
    "        a.append(parameter.data)\n",
    "    delta = a[0]\n",
    "    r = torch.mm(a[1].permute(1, 0), a[2].permute(1, 0))\n",
    "    return delta, r.reshape(1, -1)"
   ]
  },
  {
   "cell_type": "code",
   "execution_count": 2,
   "metadata": {},
   "outputs": [
    {
     "ename": "NameError",
     "evalue": "name 'model_best' is not defined",
     "output_type": "error",
     "traceback": [
      "\u001b[0;31m---------------------------------------------------------------------------\u001b[0m",
      "\u001b[0;31mNameError\u001b[0m                                 Traceback (most recent call last)",
      "\u001b[0;32m<ipython-input-2-3a96d4a96960>\u001b[0m in \u001b[0;36m<module>\u001b[0;34m()\u001b[0m\n\u001b[0;32m----> 1\u001b[0;31m \u001b[0mdelta\u001b[0m\u001b[0;34m,\u001b[0m \u001b[0mr\u001b[0m \u001b[0;34m=\u001b[0m \u001b[0mget_result\u001b[0m\u001b[0;34m(\u001b[0m\u001b[0;34m)\u001b[0m\u001b[0;34m\u001b[0m\u001b[0m\n\u001b[0m\u001b[1;32m      2\u001b[0m \u001b[0mprint\u001b[0m\u001b[0;34m(\u001b[0m\u001b[0mdelta\u001b[0m\u001b[0;34m)\u001b[0m\u001b[0;34m\u001b[0m\u001b[0m\n\u001b[1;32m      3\u001b[0m \u001b[0mprint\u001b[0m \u001b[0;34m(\u001b[0m\u001b[0mr\u001b[0m\u001b[0;34m)\u001b[0m\u001b[0;34m\u001b[0m\u001b[0m\n",
      "\u001b[0;32m<ipython-input-1-fa2e2f084363>\u001b[0m in \u001b[0;36mget_result\u001b[0;34m()\u001b[0m\n\u001b[1;32m      1\u001b[0m \u001b[0;32mdef\u001b[0m \u001b[0mget_result\u001b[0m\u001b[0;34m(\u001b[0m\u001b[0;34m)\u001b[0m\u001b[0;34m:\u001b[0m\u001b[0;34m\u001b[0m\u001b[0m\n\u001b[1;32m      2\u001b[0m     \u001b[0ma\u001b[0m \u001b[0;34m=\u001b[0m\u001b[0;34m[\u001b[0m\u001b[0;34m]\u001b[0m\u001b[0;34m\u001b[0m\u001b[0m\n\u001b[0;32m----> 3\u001b[0;31m     \u001b[0;32mfor\u001b[0m \u001b[0mparameter\u001b[0m \u001b[0;32min\u001b[0m \u001b[0mmodel_best\u001b[0m\u001b[0;34m.\u001b[0m\u001b[0mparameters\u001b[0m\u001b[0;34m(\u001b[0m\u001b[0;34m)\u001b[0m\u001b[0;34m:\u001b[0m\u001b[0;34m\u001b[0m\u001b[0m\n\u001b[0m\u001b[1;32m      4\u001b[0m         \u001b[0ma\u001b[0m\u001b[0;34m.\u001b[0m\u001b[0mappend\u001b[0m\u001b[0;34m(\u001b[0m\u001b[0mparameter\u001b[0m\u001b[0;34m.\u001b[0m\u001b[0mdata\u001b[0m\u001b[0;34m)\u001b[0m\u001b[0;34m\u001b[0m\u001b[0m\n\u001b[1;32m      5\u001b[0m     \u001b[0mdelta\u001b[0m \u001b[0;34m=\u001b[0m \u001b[0ma\u001b[0m\u001b[0;34m[\u001b[0m\u001b[0;36m0\u001b[0m\u001b[0;34m]\u001b[0m\u001b[0;34m\u001b[0m\u001b[0m\n",
      "\u001b[0;31mNameError\u001b[0m: name 'model_best' is not defined"
     ]
    }
   ],
   "source": [
    "delta, r = get_result()\n",
    "print(delta)\n",
    "print (r)"
   ]
  },
  {
   "cell_type": "code",
   "execution_count": null,
   "metadata": {},
   "outputs": [],
   "source": [
    "test_loader = torch.utils.data.DataLoader(\n",
    "    MyDataset(W),\n",
    "    batch_size=20, shuffle=True)\n",
    "with torch.no_grad():\n",
    "    for w in test_loader:\n",
    "        print(w)\n",
    "        out = model(w)\n",
    "        print (out)\n",
    "        R = out[:,0].reshape(-1, 1)\n",
    "        delta = out[:,1].reshape(-1, 1)\n",
    "        v = torch.cat((R-alpha**2, 1/(alpha**2)-R, R-delta, -R), 1)\n",
    "        print (v)\n",
    "        v = F.relu(v)\n",
    "        print(v)\n",
    "        reg = reg_lambda(w, ws, wp, tradeoff)\n",
    "        print (reg)\n",
    "        print (v*reg)\n",
    "        loss = (torch.sum(v*reg) + torch.sum(delta))/w.size(0)\n",
    "        loss = customized_loss(w, out, alpha, ws, wp, tradeoff)\n",
    "        break"
   ]
  },
  {
   "cell_type": "code",
   "execution_count": null,
   "metadata": {},
   "outputs": [],
   "source": []
  }
 ],
 "metadata": {
  "kernelspec": {
   "display_name": "Python 3",
   "language": "python",
   "name": "python3"
  },
  "language_info": {
   "codemirror_mode": {
    "name": "ipython",
    "version": 3
   },
   "file_extension": ".py",
   "mimetype": "text/x-python",
   "name": "python",
   "nbconvert_exporter": "python",
   "pygments_lexer": "ipython3",
   "version": "3.6.6"
  }
 },
 "nbformat": 4,
 "nbformat_minor": 2
}
